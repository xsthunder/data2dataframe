{
 "cells": [
  {
   "cell_type": "code",
   "execution_count": 23,
   "metadata": {
    "ExecuteTime": {
     "end_time": "2019-04-17T06:04:28.597312Z",
     "start_time": "2019-04-17T06:04:28.592132Z"
    }
   },
   "outputs": [],
   "source": [
    "from functools import reduce\n",
    "import pandas\n",
    "\n",
    "import sys\n",
    "sys.path.append('..')\n",
    "from xs_python_lib.json_helper import save_as_json\n",
    "from xs_python_lib.excel_file_helper import read_excel_file_name, read_df_arr, read_ef_arr\n"
   ]
  },
  {
   "cell_type": "code",
   "execution_count": 24,
   "metadata": {
    "ExecuteTime": {
     "end_time": "2019-04-17T06:04:28.861873Z",
     "start_time": "2019-04-17T06:04:28.831616Z"
    }
   },
   "outputs": [],
   "source": [
    "path_arr,name_arr = read_excel_file_name()\n",
    "ef_arr = read_ef_arr(path_arr)\n",
    "df_arr = read_df_arr(ef_arr)"
   ]
  },
  {
   "cell_type": "code",
   "execution_count": 25,
   "metadata": {
    "ExecuteTime": {
     "end_time": "2019-04-17T06:04:29.045693Z",
     "start_time": "2019-04-17T06:04:29.041383Z"
    }
   },
   "outputs": [],
   "source": [
    "colums_arr = list(map(lambda x:list(x.columns), df_arr))"
   ]
  },
  {
   "cell_type": "code",
   "execution_count": 26,
   "metadata": {
    "ExecuteTime": {
     "end_time": "2019-04-17T06:04:29.265374Z",
     "start_time": "2019-04-17T06:04:29.257636Z"
    }
   },
   "outputs": [],
   "source": [
    "def add_to_ans(ac, ex_name, columns, replace=False):\n",
    "    \"\"\"\n",
    "    add struct to obj by add ex_name and columns\n",
    "    \"\"\"\n",
    "    if replace:\n",
    "        pass\n",
    "    else :\n",
    "        assert ex_name not in ac\n",
    "    ac[ex_name] = {\n",
    "        'column2pos':{},\n",
    "        'columns':columns\n",
    "    }\n",
    "    obj = ac[ex_name]['column2pos']\n",
    "    def g(ac, x ):\n",
    "        index, column = x\n",
    "        assert column not in ac, \"Error: duplicated columns name\"\n",
    "        ac[column] = index\n",
    "        return ac\n",
    "    reduce(g, enumerate(columns), obj)"
   ]
  },
  {
   "cell_type": "code",
   "execution_count": 27,
   "metadata": {
    "ExecuteTime": {
     "end_time": "2019-04-17T06:04:29.445959Z",
     "start_time": "2019-04-17T06:04:29.438466Z"
    }
   },
   "outputs": [],
   "source": [
    "# read structure from file\n",
    "def f(ac, x):\n",
    "    i, columns = x\n",
    "    add_to_ans(ac, name_arr[i], columns)\n",
    "    return ac\n",
    "ans = reduce(f, enumerate(colums_arr), {})"
   ]
  },
  {
   "cell_type": "code",
   "execution_count": 28,
   "metadata": {
    "ExecuteTime": {
     "end_time": "2019-04-17T06:04:29.637101Z",
     "start_time": "2019-04-17T06:04:29.632468Z"
    }
   },
   "outputs": [],
   "source": [
    "# add a virtual table\n",
    "add_to_ans(ans, 'student_exam_result_list.xlsx',[\n",
    "    'student_id', 'exam_id', 'exam_date', 'exam_type','exam_result_number', 'exam_result_string'\n",
    "])"
   ]
  },
  {
   "cell_type": "code",
   "execution_count": 29,
   "metadata": {
    "ExecuteTime": {
     "end_time": "2019-04-17T06:04:29.889111Z",
     "start_time": "2019-04-17T06:04:29.882970Z"
    }
   },
   "outputs": [],
   "source": [
    "save_as_json(ans, 'data_struct.json')"
   ]
  },
  {
   "cell_type": "code",
   "execution_count": 30,
   "metadata": {
    "ExecuteTime": {
     "end_time": "2019-04-17T06:04:30.294633Z",
     "start_time": "2019-04-17T06:04:30.286068Z"
    }
   },
   "outputs": [
    {
     "data": {
      "text/plain": [
       "{'exam_result_list.xlsx': {'column2pos': {'exam_id': 0,\n",
       "   'exam_result_number': 1,\n",
       "   'exam_result_string': 2},\n",
       "  'columns': ['exam_id', 'exam_result_number', 'exam_result_string']},\n",
       " 'student_exam_list.xlsx': {'column2pos': {'student_id': 0,\n",
       "   'exam_id': 1,\n",
       "   'exam_date': 2,\n",
       "   'exam_type': 3},\n",
       "  'columns': ['student_id', 'exam_id', 'exam_date', 'exam_type']},\n",
       " 'student_exam_result_list.xlsx': {'column2pos': {'student_id': 0,\n",
       "   'exam_id': 1,\n",
       "   'exam_date': 2,\n",
       "   'exam_type': 3,\n",
       "   'exam_result_number': 4,\n",
       "   'exam_result_string': 5},\n",
       "  'columns': ['student_id',\n",
       "   'exam_id',\n",
       "   'exam_date',\n",
       "   'exam_type',\n",
       "   'exam_result_number',\n",
       "   'exam_result_string']}}"
      ]
     },
     "execution_count": 30,
     "metadata": {},
     "output_type": "execute_result"
    }
   ],
   "source": [
    "ans"
   ]
  },
  {
   "cell_type": "code",
   "execution_count": null,
   "metadata": {},
   "outputs": [],
   "source": []
  }
 ],
 "metadata": {
  "kernelspec": {
   "display_name": "Python (clean-data)",
   "language": "python",
   "name": "clean-data"
  },
  "language_info": {
   "codemirror_mode": {
    "name": "ipython",
    "version": 3
   },
   "file_extension": ".py",
   "mimetype": "text/x-python",
   "name": "python",
   "nbconvert_exporter": "python",
   "pygments_lexer": "ipython3",
   "version": "3.7.1"
  }
 },
 "nbformat": 4,
 "nbformat_minor": 2
}
