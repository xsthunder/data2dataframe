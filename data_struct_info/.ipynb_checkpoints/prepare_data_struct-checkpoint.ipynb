{
 "cells": [
  {
   "cell_type": "code",
   "execution_count": 15,
   "metadata": {
    "ExecuteTime": {
     "end_time": "2019-04-17T05:54:03.851572Z",
     "start_time": "2019-04-17T05:54:03.845474Z"
    }
   },
   "outputs": [],
   "source": [
    "from functools import reduce\n",
    "import pandas\n",
    "\n",
    "import sys\n",
    "sys.path.append('..')\n",
    "from xs_python_lib.json_helper import save_as_json\n",
    "from xs_python_lib.excel_file_helper import read_excel_file_name, read_df_arr, read_ef_arr\n"
   ]
  },
  {
   "cell_type": "code",
   "execution_count": 16,
   "metadata": {
    "ExecuteTime": {
     "end_time": "2019-04-17T05:54:04.072490Z",
     "start_time": "2019-04-17T05:54:04.045385Z"
    }
   },
   "outputs": [],
   "source": [
    "path_arr,name_arr = read_excel_file_name()\n",
    "ef_arr = read_ef_arr(path_arr)\n",
    "df_arr = read_df_arr(ef_arr)"
   ]
  },
  {
   "cell_type": "code",
   "execution_count": 17,
   "metadata": {
    "ExecuteTime": {
     "end_time": "2019-04-17T05:54:04.267671Z",
     "start_time": "2019-04-17T05:54:04.262363Z"
    }
   },
   "outputs": [],
   "source": [
    "colums_arr = list(map(lambda x:list(x.columns), df_arr))"
   ]
  },
  {
   "cell_type": "code",
   "execution_count": 18,
   "metadata": {
    "ExecuteTime": {
     "end_time": "2019-04-17T05:54:04.560637Z",
     "start_time": "2019-04-17T05:54:04.552909Z"
    }
   },
   "outputs": [],
   "source": [
    "def add_to_ans(ac, ex_name, columns, replace=False):\n",
    "    \"\"\"\n",
    "    add struct to obj by add ex_name and columns\n",
    "    \"\"\"\n",
    "    if replace:\n",
    "        pass\n",
    "    else :\n",
    "        assert ex_name not in ac\n",
    "    ac[ex_name] = {\n",
    "        'column2pos':{},\n",
    "        'columns':columns\n",
    "    }\n",
    "    obj = ac[ex_name]['column2pos']\n",
    "    def g(ac, x ):\n",
    "        index, column = x\n",
    "        ac[column] = index\n",
    "        return ac\n",
    "    reduce(g, enumerate(columns), obj)"
   ]
  },
  {
   "cell_type": "code",
   "execution_count": 19,
   "metadata": {
    "ExecuteTime": {
     "end_time": "2019-04-17T05:54:05.828294Z",
     "start_time": "2019-04-17T05:54:05.822442Z"
    }
   },
   "outputs": [],
   "source": [
    "# read structure from file\n",
    "def f(ac, x):\n",
    "    i, columns = x\n",
    "    add_to_ans(ac, name_arr[i], columns)\n",
    "    return ac\n",
    "ans = reduce(f, enumerate(colums_arr), {})"
   ]
  },
  {
   "cell_type": "code",
   "execution_count": 20,
   "metadata": {
    "ExecuteTime": {
     "end_time": "2019-04-17T05:54:06.867948Z",
     "start_time": "2019-04-17T05:54:06.862549Z"
    }
   },
   "outputs": [],
   "source": [
    "# add a virtual table\n",
    "add_to_ans(ans, 'student_exam_result_list.xlsx',[\n",
    "    'student_id', 'exam_id', 'exam_date', 'exam_type','exam_result_number', 'exam_result_string'\n",
    "])"
   ]
  },
  {
   "cell_type": "code",
   "execution_count": 21,
   "metadata": {
    "ExecuteTime": {
     "end_time": "2019-04-17T05:54:07.875695Z",
     "start_time": "2019-04-17T05:54:07.870807Z"
    }
   },
   "outputs": [],
   "source": [
    "save_as_json(ans, 'data_struct.json')"
   ]
  },
  {
   "cell_type": "code",
   "execution_count": 22,
   "metadata": {
    "ExecuteTime": {
     "end_time": "2019-04-17T05:54:08.333881Z",
     "start_time": "2019-04-17T05:54:08.325631Z"
    }
   },
   "outputs": [
    {
     "data": {
      "text/plain": [
       "{'exam_result_list.xlsx': {'column2pos': {'exam_id': 0,\n",
       "   'exam_result_number': 1,\n",
       "   'exam_result_string': 2},\n",
       "  'columns': ['exam_id', 'exam_result_number', 'exam_result_string']},\n",
       " 'student_exam_list.xlsx': {'column2pos': {'stundent_id': 0,\n",
       "   'exam_id': 1,\n",
       "   'exam_date': 2,\n",
       "   'exam_type': 3},\n",
       "  'columns': ['stundent_id', 'exam_id', 'exam_date', 'exam_type']},\n",
       " 'student_exam_result_list.xlsx': {'column2pos': {'student_id': 0,\n",
       "   'exam_id': 1,\n",
       "   'exam_date': 2,\n",
       "   'exam_type': 3,\n",
       "   'exam_result_number': 4,\n",
       "   'exam_result_string': 5},\n",
       "  'columns': ['student_id',\n",
       "   'exam_id',\n",
       "   'exam_date',\n",
       "   'exam_type',\n",
       "   'exam_result_number',\n",
       "   'exam_result_string']}}"
      ]
     },
     "execution_count": 22,
     "metadata": {},
     "output_type": "execute_result"
    }
   ],
   "source": [
    "ans"
   ]
  },
  {
   "cell_type": "code",
   "execution_count": null,
   "metadata": {},
   "outputs": [],
   "source": []
  }
 ],
 "metadata": {
  "kernelspec": {
   "display_name": "Python (clean-data)",
   "language": "python",
   "name": "clean-data"
  },
  "language_info": {
   "codemirror_mode": {
    "name": "ipython",
    "version": 3
   },
   "file_extension": ".py",
   "mimetype": "text/x-python",
   "name": "python",
   "nbconvert_exporter": "python",
   "pygments_lexer": "ipython3",
   "version": "3.7.1"
  }
 },
 "nbformat": 4,
 "nbformat_minor": 2
}
