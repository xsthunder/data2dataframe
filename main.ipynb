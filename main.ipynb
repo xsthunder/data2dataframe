{
 "cells": [
  {
   "cell_type": "code",
   "execution_count": 12,
   "metadata": {
    "ExecuteTime": {
     "end_time": "2019-04-06T05:12:56.843845Z",
     "start_time": "2019-04-06T05:12:56.836658Z"
    }
   },
   "outputs": [],
   "source": [
    "import json\n",
    "import pandas as pd\n",
    "import numpy as np\n",
    "from functools import reduce"
   ]
  },
  {
   "cell_type": "code",
   "execution_count": 13,
   "metadata": {
    "ExecuteTime": {
     "end_time": "2019-04-06T05:12:57.044740Z",
     "start_time": "2019-04-06T05:12:57.034950Z"
    }
   },
   "outputs": [],
   "source": [
    "def is_num(x):\n",
    "    try:\n",
    "        float(x)\n",
    "        return True\n",
    "    except:\n",
    "        return False"
   ]
  },
  {
   "cell_type": "code",
   "execution_count": 14,
   "metadata": {
    "ExecuteTime": {
     "end_time": "2019-04-06T05:12:57.269418Z",
     "start_time": "2019-04-06T05:12:57.260837Z"
    }
   },
   "outputs": [],
   "source": [
    "f = open('./data_struct_info/data_struct.json')\n",
    "data_struct = json.load(f)"
   ]
  },
  {
   "cell_type": "code",
   "execution_count": 15,
   "metadata": {
    "ExecuteTime": {
     "end_time": "2019-04-06T05:12:57.486849Z",
     "start_time": "2019-04-06T05:12:57.481528Z"
    }
   },
   "outputs": [],
   "source": [
    "# data_struct"
   ]
  },
  {
   "cell_type": "code",
   "execution_count": 16,
   "metadata": {
    "ExecuteTime": {
     "end_time": "2019-04-06T05:12:57.759465Z",
     "start_time": "2019-04-06T05:12:57.751745Z"
    }
   },
   "outputs": [],
   "source": [
    "f = open('./input_data/example.json')\n",
    "jy_json = json.load(f)"
   ]
  },
  {
   "cell_type": "code",
   "execution_count": 17,
   "metadata": {
    "ExecuteTime": {
     "end_time": "2019-04-06T05:12:58.058523Z",
     "start_time": "2019-04-06T05:12:58.037100Z"
    }
   },
   "outputs": [
    {
     "data": {
      "text/plain": [
       "{'时间': '20190409', '结果': 'A+', 'type': 'english', 'zyh': '0870', 'id': 60001}"
      ]
     },
     "execution_count": 17,
     "metadata": {},
     "output_type": "execute_result"
    }
   ],
   "source": [
    "ID = 60000\n",
    "def append(arr, x):\n",
    "    arr.append(x)\n",
    "    return arr\n",
    "def f(ac, x):\n",
    "    zyh, type_res_obj = x\n",
    "    def g(ac, x):\n",
    "        t, res_arr = x\n",
    "        reduce(lambda acc, y:append(acc, {\n",
    "            **y,\n",
    "            'type':t,\n",
    "            'zyh':zyh\n",
    "        }), res_arr,ac)\n",
    "        return ac\n",
    "    reduce(lambda acc,y:g(acc,y),type_res_obj.items(), ac )\n",
    "    return ac\n",
    "jy_list = reduce(f, jy_json.items(), [])\n",
    "def f(x):\n",
    "    offset, row = x\n",
    "    return {\n",
    "        **row, \n",
    "        'id':offset+ID\n",
    "    }\n",
    "jy_list = list(map(f, enumerate(jy_list) ))\n",
    "# list(jy_json.items())[0]\n",
    "jy_list[1]"
   ]
  },
  {
   "cell_type": "code",
   "execution_count": 18,
   "metadata": {
    "ExecuteTime": {
     "end_time": "2019-04-06T05:12:58.434261Z",
     "start_time": "2019-04-06T05:12:58.379718Z"
    }
   },
   "outputs": [],
   "source": [
    "ex_name = 'exam_result_list.xlsx'\n",
    "\n",
    "def f(x):\n",
    "    df_struct = data_struct[ex_name]\n",
    "    row = [np.nan for i in df_struct['columns']]\n",
    "    row[df_struct['column2pos']['exam_id']] = x['id']\n",
    "    if is_num(x['结果']):\n",
    "        row[data_struct[ex_name]['column2pos']['exam_result_number']] = x['结果']\n",
    "    else:\n",
    "        row[data_struct[ex_name]['column2pos']['exam_result_string']] = x['结果']\n",
    "    return row\n",
    "all_row = list(map(f, jy_list))\n",
    "df = pd.DataFrame(all_row,columns=data_struct[ex_name]['columns'])\n",
    "df.to_excel('./output_data/%s'%ex_name)"
   ]
  },
  {
   "cell_type": "code",
   "execution_count": 19,
   "metadata": {
    "ExecuteTime": {
     "end_time": "2019-04-06T05:16:22.823992Z",
     "start_time": "2019-04-06T05:16:22.798581Z"
    }
   },
   "outputs": [
    {
     "data": {
      "text/html": [
       "<div>\n",
       "<style scoped>\n",
       "    .dataframe tbody tr th:only-of-type {\n",
       "        vertical-align: middle;\n",
       "    }\n",
       "\n",
       "    .dataframe tbody tr th {\n",
       "        vertical-align: top;\n",
       "    }\n",
       "\n",
       "    .dataframe thead th {\n",
       "        text-align: right;\n",
       "    }\n",
       "</style>\n",
       "<table border=\"1\" class=\"dataframe\">\n",
       "  <thead>\n",
       "    <tr style=\"text-align: right;\">\n",
       "      <th></th>\n",
       "      <th>exam_id</th>\n",
       "      <th>exam_result_number</th>\n",
       "      <th>exam_result_string</th>\n",
       "    </tr>\n",
       "  </thead>\n",
       "  <tbody>\n",
       "    <tr>\n",
       "      <th>0</th>\n",
       "      <td>60000</td>\n",
       "      <td>97.0</td>\n",
       "      <td>NaN</td>\n",
       "    </tr>\n",
       "    <tr>\n",
       "      <th>1</th>\n",
       "      <td>60001</td>\n",
       "      <td>NaN</td>\n",
       "      <td>A+</td>\n",
       "    </tr>\n",
       "    <tr>\n",
       "      <th>2</th>\n",
       "      <td>60002</td>\n",
       "      <td>32.0</td>\n",
       "      <td>NaN</td>\n",
       "    </tr>\n",
       "    <tr>\n",
       "      <th>3</th>\n",
       "      <td>60003</td>\n",
       "      <td>NaN</td>\n",
       "      <td>G</td>\n",
       "    </tr>\n",
       "  </tbody>\n",
       "</table>\n",
       "</div>"
      ],
      "text/plain": [
       "   exam_id  exam_result_number exam_result_string\n",
       "0    60000                97.0                NaN\n",
       "1    60001                 NaN                 A+\n",
       "2    60002                32.0                NaN\n",
       "3    60003                 NaN                  G"
      ]
     },
     "execution_count": 19,
     "metadata": {},
     "output_type": "execute_result"
    }
   ],
   "source": [
    "df"
   ]
  }
 ],
 "metadata": {
  "kernelspec": {
   "display_name": "Python (clean-data)",
   "language": "python",
   "name": "clean-data"
  },
  "language_info": {
   "codemirror_mode": {
    "name": "ipython",
    "version": 3
   },
   "file_extension": ".py",
   "mimetype": "text/x-python",
   "name": "python",
   "nbconvert_exporter": "python",
   "pygments_lexer": "ipython3",
   "version": "3.7.1"
  }
 },
 "nbformat": 4,
 "nbformat_minor": 2
}
