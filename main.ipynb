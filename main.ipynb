{
 "cells": [
  {
   "cell_type": "code",
   "execution_count": 41,
   "metadata": {
    "ExecuteTime": {
     "end_time": "2019-04-17T06:09:28.945677Z",
     "start_time": "2019-04-17T06:09:28.941824Z"
    }
   },
   "outputs": [],
   "source": [
    "import json\n",
    "import pandas as pd\n",
    "import numpy as np\n",
    "from functools import reduce"
   ]
  },
  {
   "cell_type": "code",
   "execution_count": 42,
   "metadata": {
    "ExecuteTime": {
     "end_time": "2019-04-17T06:09:29.130786Z",
     "start_time": "2019-04-17T06:09:29.122707Z"
    }
   },
   "outputs": [],
   "source": [
    "def is_num(x):\n",
    "    try:\n",
    "        float(x)\n",
    "        return True\n",
    "    except:\n",
    "        return False"
   ]
  },
  {
   "cell_type": "code",
   "execution_count": 43,
   "metadata": {
    "ExecuteTime": {
     "end_time": "2019-04-17T06:09:29.338985Z",
     "start_time": "2019-04-17T06:09:29.329672Z"
    }
   },
   "outputs": [],
   "source": [
    "f = open('./data_struct_info/data_struct.json')\n",
    "data_struct = json.load(f)"
   ]
  },
  {
   "cell_type": "code",
   "execution_count": 44,
   "metadata": {
    "ExecuteTime": {
     "end_time": "2019-04-17T06:09:29.501987Z",
     "start_time": "2019-04-17T06:09:29.493709Z"
    }
   },
   "outputs": [
    {
     "data": {
      "text/plain": [
       "{'exam_result_list.xlsx': {'column2pos': {'exam_id': 0,\n",
       "   'exam_result_number': 1,\n",
       "   'exam_result_string': 2},\n",
       "  'columns': ['exam_id', 'exam_result_number', 'exam_result_string']},\n",
       " 'student_exam_list.xlsx': {'column2pos': {'student_id': 0,\n",
       "   'exam_id': 1,\n",
       "   'exam_date': 2,\n",
       "   'exam_type': 3},\n",
       "  'columns': ['student_id', 'exam_id', 'exam_date', 'exam_type']},\n",
       " 'student_exam_result_list.xlsx': {'column2pos': {'student_id': 0,\n",
       "   'exam_id': 1,\n",
       "   'exam_date': 2,\n",
       "   'exam_type': 3,\n",
       "   'exam_result_number': 4,\n",
       "   'exam_result_string': 5},\n",
       "  'columns': ['student_id',\n",
       "   'exam_id',\n",
       "   'exam_date',\n",
       "   'exam_type',\n",
       "   'exam_result_number',\n",
       "   'exam_result_string']}}"
      ]
     },
     "execution_count": 44,
     "metadata": {},
     "output_type": "execute_result"
    }
   ],
   "source": [
    "data_struct"
   ]
  },
  {
   "cell_type": "code",
   "execution_count": 45,
   "metadata": {
    "ExecuteTime": {
     "end_time": "2019-04-17T06:09:30.787701Z",
     "start_time": "2019-04-17T06:09:30.779861Z"
    }
   },
   "outputs": [
    {
     "data": {
      "text/plain": [
       "{'0870': {'english': [{'时间': '20190406', '结果': 97},\n",
       "   {'时间': '20190409', '结果': 'A+'}]},\n",
       " '0871': {'chinese': [{'时间': '20180406', '结果': 32}],\n",
       "  'chemistry': [{'时间': '20160409', '结果': 'G'}]}}"
      ]
     },
     "execution_count": 45,
     "metadata": {},
     "output_type": "execute_result"
    }
   ],
   "source": [
    "f = open('./input_data/example.json')\n",
    "jy_json = json.load(f)\n",
    "jy_json "
   ]
  },
  {
   "cell_type": "code",
   "execution_count": 46,
   "metadata": {
    "ExecuteTime": {
     "end_time": "2019-04-17T06:09:32.091463Z",
     "start_time": "2019-04-17T06:09:32.079018Z"
    }
   },
   "outputs": [
    {
     "data": {
      "text/plain": [
       "[{'时间': '20190406', '结果': 97, 'type': 'english', 'user_id': '0870'},\n",
       " {'时间': '20190409', '结果': 'A+', 'type': 'english', 'user_id': '0870'},\n",
       " {'时间': '20180406', '结果': 32, 'type': 'chinese', 'user_id': '0871'},\n",
       " {'时间': '20160409', '结果': 'G', 'type': 'chemistry', 'user_id': '0871'}]"
      ]
     },
     "execution_count": 46,
     "metadata": {},
     "output_type": "execute_result"
    }
   ],
   "source": [
    "ID = 60000\n",
    "def append(arr, x):\n",
    "    arr.append(x)\n",
    "    return arr\n",
    "def f(ac, x):\n",
    "    user_id, type_res_obj = x\n",
    "    def g(ac, x):\n",
    "        t, res_arr = x\n",
    "        reduce(lambda acc, y:append(acc, {\n",
    "            **y,\n",
    "            'type':t,\n",
    "            'user_id':user_id\n",
    "        }), res_arr,ac)\n",
    "        return ac\n",
    "    reduce(lambda acc,y:g(acc,y),type_res_obj.items(), ac )\n",
    "    return ac\n",
    "jy_list_temp = reduce(f, jy_json.items(), [])\n",
    "jy_list_temp # Fold outward list, add its ancestor"
   ]
  },
  {
   "cell_type": "code",
   "execution_count": 47,
   "metadata": {
    "ExecuteTime": {
     "end_time": "2019-04-17T06:09:34.255458Z",
     "start_time": "2019-04-17T06:09:34.245898Z"
    }
   },
   "outputs": [
    {
     "data": {
      "text/plain": [
       "[{'时间': '20190406',\n",
       "  '结果': 97,\n",
       "  'type': 'english',\n",
       "  'user_id': '0870',\n",
       "  'id': 60000},\n",
       " {'时间': '20190409',\n",
       "  '结果': 'A+',\n",
       "  'type': 'english',\n",
       "  'user_id': '0870',\n",
       "  'id': 60001},\n",
       " {'时间': '20180406',\n",
       "  '结果': 32,\n",
       "  'type': 'chinese',\n",
       "  'user_id': '0871',\n",
       "  'id': 60002},\n",
       " {'时间': '20160409',\n",
       "  '结果': 'G',\n",
       "  'type': 'chemistry',\n",
       "  'user_id': '0871',\n",
       "  'id': 60003}]"
      ]
     },
     "execution_count": 47,
     "metadata": {},
     "output_type": "execute_result"
    }
   ],
   "source": [
    "def f(x):\n",
    "    offset, row = x\n",
    "    return {\n",
    "        **row, \n",
    "        'id':offset+ID\n",
    "    }\n",
    "jy_list = list(map(f, enumerate(jy_list_temp) ))\n",
    "# list(jy_json.items())[0]\n",
    "jy_list # add id, split each item into two dataframe in following"
   ]
  },
  {
   "cell_type": "code",
   "execution_count": 48,
   "metadata": {
    "ExecuteTime": {
     "end_time": "2019-04-17T06:09:34.601668Z",
     "start_time": "2019-04-17T06:09:34.538433Z"
    }
   },
   "outputs": [
    {
     "name": "stdout",
     "output_type": "stream",
     "text": [
      "{'column2pos': {'exam_id': 0, 'exam_result_number': 1, 'exam_result_string': 2}, 'columns': ['exam_id', 'exam_result_number', 'exam_result_string']}\n"
     ]
    },
    {
     "data": {
      "text/html": [
       "<div>\n",
       "<style scoped>\n",
       "    .dataframe tbody tr th:only-of-type {\n",
       "        vertical-align: middle;\n",
       "    }\n",
       "\n",
       "    .dataframe tbody tr th {\n",
       "        vertical-align: top;\n",
       "    }\n",
       "\n",
       "    .dataframe thead th {\n",
       "        text-align: right;\n",
       "    }\n",
       "</style>\n",
       "<table border=\"1\" class=\"dataframe\">\n",
       "  <thead>\n",
       "    <tr style=\"text-align: right;\">\n",
       "      <th></th>\n",
       "      <th>exam_id</th>\n",
       "      <th>exam_result_number</th>\n",
       "      <th>exam_result_string</th>\n",
       "    </tr>\n",
       "  </thead>\n",
       "  <tbody>\n",
       "    <tr>\n",
       "      <th>0</th>\n",
       "      <td>60000</td>\n",
       "      <td>97.0</td>\n",
       "      <td>NaN</td>\n",
       "    </tr>\n",
       "    <tr>\n",
       "      <th>1</th>\n",
       "      <td>60001</td>\n",
       "      <td>NaN</td>\n",
       "      <td>A+</td>\n",
       "    </tr>\n",
       "    <tr>\n",
       "      <th>2</th>\n",
       "      <td>60002</td>\n",
       "      <td>32.0</td>\n",
       "      <td>NaN</td>\n",
       "    </tr>\n",
       "    <tr>\n",
       "      <th>3</th>\n",
       "      <td>60003</td>\n",
       "      <td>NaN</td>\n",
       "      <td>G</td>\n",
       "    </tr>\n",
       "  </tbody>\n",
       "</table>\n",
       "</div>"
      ],
      "text/plain": [
       "   exam_id  exam_result_number exam_result_string\n",
       "0    60000                97.0                NaN\n",
       "1    60001                 NaN                 A+\n",
       "2    60002                32.0                NaN\n",
       "3    60003                 NaN                  G"
      ]
     },
     "execution_count": 48,
     "metadata": {},
     "output_type": "execute_result"
    }
   ],
   "source": [
    "ex_name = 'exam_result_list.xlsx'\n",
    "df_struct = data_struct[ex_name]\n",
    "column2pos = df_struct['column2pos']\n",
    "print(df_struct)\n",
    "def f(x):\n",
    "    row = [np.nan for i in df_struct['columns']]\n",
    "    row[column2pos['exam_id']] = x['id']\n",
    "    if is_num(x['结果']):\n",
    "        row[column2pos['exam_result_number']] = x['结果']\n",
    "    else:\n",
    "        row[column2pos['exam_result_string']] = x['结果']\n",
    "    return row\n",
    "all_row = list(map(f, jy_list))\n",
    "df = pd.DataFrame(all_row,columns=data_struct[ex_name]['columns'])\n",
    "df.to_excel('./output_data/%s'%ex_name)\n",
    "df"
   ]
  },
  {
   "cell_type": "code",
   "execution_count": 50,
   "metadata": {
    "ExecuteTime": {
     "end_time": "2019-04-17T06:09:45.753522Z",
     "start_time": "2019-04-17T06:09:45.689401Z"
    }
   },
   "outputs": [
    {
     "name": "stdout",
     "output_type": "stream",
     "text": [
      "{'column2pos': {'student_id': 0, 'exam_id': 1, 'exam_date': 2, 'exam_type': 3}, 'columns': ['student_id', 'exam_id', 'exam_date', 'exam_type']}\n"
     ]
    },
    {
     "data": {
      "text/html": [
       "<div>\n",
       "<style scoped>\n",
       "    .dataframe tbody tr th:only-of-type {\n",
       "        vertical-align: middle;\n",
       "    }\n",
       "\n",
       "    .dataframe tbody tr th {\n",
       "        vertical-align: top;\n",
       "    }\n",
       "\n",
       "    .dataframe thead th {\n",
       "        text-align: right;\n",
       "    }\n",
       "</style>\n",
       "<table border=\"1\" class=\"dataframe\">\n",
       "  <thead>\n",
       "    <tr style=\"text-align: right;\">\n",
       "      <th></th>\n",
       "      <th>student_id</th>\n",
       "      <th>exam_id</th>\n",
       "      <th>exam_date</th>\n",
       "      <th>exam_type</th>\n",
       "    </tr>\n",
       "  </thead>\n",
       "  <tbody>\n",
       "    <tr>\n",
       "      <th>0</th>\n",
       "      <td>0870</td>\n",
       "      <td>60000</td>\n",
       "      <td>20190406</td>\n",
       "      <td>english</td>\n",
       "    </tr>\n",
       "    <tr>\n",
       "      <th>1</th>\n",
       "      <td>0870</td>\n",
       "      <td>60001</td>\n",
       "      <td>20190409</td>\n",
       "      <td>english</td>\n",
       "    </tr>\n",
       "    <tr>\n",
       "      <th>2</th>\n",
       "      <td>0871</td>\n",
       "      <td>60002</td>\n",
       "      <td>20180406</td>\n",
       "      <td>chinese</td>\n",
       "    </tr>\n",
       "    <tr>\n",
       "      <th>3</th>\n",
       "      <td>0871</td>\n",
       "      <td>60003</td>\n",
       "      <td>20160409</td>\n",
       "      <td>chemistry</td>\n",
       "    </tr>\n",
       "  </tbody>\n",
       "</table>\n",
       "</div>"
      ],
      "text/plain": [
       "  student_id  exam_id exam_date  exam_type\n",
       "0       0870    60000  20190406    english\n",
       "1       0870    60001  20190409    english\n",
       "2       0871    60002  20180406    chinese\n",
       "3       0871    60003  20160409  chemistry"
      ]
     },
     "execution_count": 50,
     "metadata": {},
     "output_type": "execute_result"
    }
   ],
   "source": [
    "ex_name = 'student_exam_list.xlsx'\n",
    "df_struct = data_struct[ex_name]\n",
    "column2pos = df_struct['column2pos']\n",
    "print(df_struct)\n",
    "def f(x):\n",
    "    row = [np.nan for i in df_struct['columns']]\n",
    "    row[column2pos['exam_id']] = x['id']\n",
    "    row[column2pos['student_id']] = x['user_id']\n",
    "    row[column2pos['exam_date']] = x['时间']\n",
    "    row[column2pos['exam_type']] = x['type']\n",
    "    return row\n",
    "all_row = list(map(f, jy_list))\n",
    "df = pd.DataFrame(all_row,columns=data_struct[ex_name]['columns'])\n",
    "df.to_excel('./output_data/%s'%ex_name)\n",
    "df"
   ]
  },
  {
   "cell_type": "code",
   "execution_count": null,
   "metadata": {},
   "outputs": [],
   "source": []
  }
 ],
 "metadata": {
  "kernelspec": {
   "display_name": "Python (clean-data)",
   "language": "python",
   "name": "clean-data"
  },
  "language_info": {
   "codemirror_mode": {
    "name": "ipython",
    "version": 3
   },
   "file_extension": ".py",
   "mimetype": "text/x-python",
   "name": "python",
   "nbconvert_exporter": "python",
   "pygments_lexer": "ipython3",
   "version": "3.7.1"
  }
 },
 "nbformat": 4,
 "nbformat_minor": 2
}
