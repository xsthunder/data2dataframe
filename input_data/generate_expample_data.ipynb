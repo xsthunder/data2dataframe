{
 "cells": [
  {
   "cell_type": "code",
   "execution_count": 22,
   "metadata": {
    "ExecuteTime": {
     "end_time": "2019-04-06T03:16:12.205606Z",
     "start_time": "2019-04-06T03:16:12.199898Z"
    }
   },
   "outputs": [],
   "source": [
    "import sys\n",
    "sys.path.append('..')\n",
    "from xs_python_lib.json_helper import save_as_json"
   ]
  },
  {
   "cell_type": "code",
   "execution_count": 33,
   "metadata": {
    "ExecuteTime": {
     "end_time": "2019-04-06T03:23:53.494946Z",
     "start_time": "2019-04-06T03:23:53.484867Z"
    }
   },
   "outputs": [],
   "source": [
    "(\n",
    "    time,\n",
    "    result,\n",
    ")=(\n",
    "    \"时间\",\n",
    "    \"结果\",\n",
    ")\n",
    "ans = {\n",
    "    \"0870\":{\n",
    "        \"english\":[\n",
    "            {\n",
    "                time:\"20190406\",\n",
    "                result:97\n",
    "            },\n",
    "            {\n",
    "                time:\"20190409\",\n",
    "                result:'A+'\n",
    "            }\n",
    "        ]\n",
    "    },\n",
    "     \"0871\":{\n",
    "        \"chinese\":[\n",
    "            {\n",
    "                time:\"20180406\",\n",
    "                result:32\n",
    "            },\n",
    "        ],\n",
    "        \"chemistry\":[\n",
    "            {\n",
    "                time:\"20160409\",\n",
    "                result:'G'\n",
    "            }\n",
    "        ]\n",
    "    }\n",
    "}"
   ]
  },
  {
   "cell_type": "code",
   "execution_count": 34,
   "metadata": {
    "ExecuteTime": {
     "end_time": "2019-04-06T03:23:53.647174Z",
     "start_time": "2019-04-06T03:23:53.639902Z"
    }
   },
   "outputs": [
    {
     "data": {
      "text/plain": [
       "{'0870': {'english': [{'时间': '20190406', '结果': 97},\n",
       "   {'时间': '20190409', '结果': 'A+'}]},\n",
       " '0871': {'chinese': [{'时间': '20180406', '结果': 32}],\n",
       "  'chemistry': [{'时间': '20160409', '结果': 'G'}]}}"
      ]
     },
     "execution_count": 34,
     "metadata": {},
     "output_type": "execute_result"
    }
   ],
   "source": [
    "ans"
   ]
  },
  {
   "cell_type": "code",
   "execution_count": 35,
   "metadata": {
    "ExecuteTime": {
     "end_time": "2019-04-06T04:43:54.176480Z",
     "start_time": "2019-04-06T04:43:54.168798Z"
    }
   },
   "outputs": [],
   "source": [
    "save_as_json(ans, 'example.json')"
   ]
  }
 ],
 "metadata": {
  "kernelspec": {
   "display_name": "Python (clean-data)",
   "language": "python",
   "name": "clean-data"
  },
  "language_info": {
   "codemirror_mode": {
    "name": "ipython",
    "version": 3
   },
   "file_extension": ".py",
   "mimetype": "text/x-python",
   "name": "python",
   "nbconvert_exporter": "python",
   "pygments_lexer": "ipython3",
   "version": "3.7.1"
  }
 },
 "nbformat": 4,
 "nbformat_minor": 2
}
